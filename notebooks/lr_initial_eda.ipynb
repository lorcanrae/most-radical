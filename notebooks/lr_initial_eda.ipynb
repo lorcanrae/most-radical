{
 "cells": [
  {
   "cell_type": "code",
   "execution_count": 2,
   "id": "2bff4946-c422-4574-af5d-6b331139e6c8",
   "metadata": {},
   "outputs": [],
   "source": [
    "from sklearn.datasets import load_diabetes\n",
    "import pandas as pd\n",
    "import numpy as np\n",
    "import seaborn as sns\n",
    "import matplotlib.pyplot as plt"
   ]
  },
  {
   "cell_type": "code",
   "execution_count": 3,
   "id": "acb6508a-5e57-44b7-a99d-39f5dbe1ea7e",
   "metadata": {},
   "outputs": [],
   "source": [
    "data = load_diabetes(as_frame=True)"
   ]
  },
  {
   "cell_type": "code",
   "execution_count": 4,
   "id": "5c2eb528-9903-4e39-bbc4-d462a8709ee4",
   "metadata": {},
   "outputs": [],
   "source": [
    "X = data['data']"
   ]
  },
  {
   "cell_type": "code",
   "execution_count": 8,
   "id": "66a90aa5-d404-4831-a765-e2ef55db4388",
   "metadata": {},
   "outputs": [],
   "source": [
    "y = data['target']"
   ]
  },
  {
   "cell_type": "code",
   "execution_count": null,
   "id": "a6dddb54-fec9-4881-853f-ce195d5dbecc",
   "metadata": {},
   "outputs": [],
   "source": []
  },
  {
   "cell_type": "code",
   "execution_count": 9,
   "id": "6af0ca8f-a95c-4b41-928c-f7719eaed0fd",
   "metadata": {},
   "outputs": [
    {
     "data": {
      "text/plain": [
       "0      151.0\n",
       "1       75.0\n",
       "2      141.0\n",
       "3      206.0\n",
       "4      135.0\n",
       "       ...  \n",
       "437    178.0\n",
       "438    104.0\n",
       "439    132.0\n",
       "440    220.0\n",
       "441     57.0\n",
       "Name: target, Length: 442, dtype: float64"
      ]
     },
     "execution_count": 9,
     "metadata": {},
     "output_type": "execute_result"
    }
   ],
   "source": [
    "y"
   ]
  },
  {
   "cell_type": "code",
   "execution_count": null,
   "id": "f268cd8a-4d99-4b57-9247-035975f4aff2",
   "metadata": {},
   "outputs": [],
   "source": []
  },
  {
   "cell_type": "code",
   "execution_count": 10,
   "id": "e8825c66-d224-431a-ad21-cd5476a1ed5b",
   "metadata": {},
   "outputs": [],
   "source": [
    "y_plus_one = y + 1"
   ]
  },
  {
   "cell_type": "code",
   "execution_count": 11,
   "id": "7e727fb1-8840-4aa5-b6d9-6a3e9fa212a3",
   "metadata": {},
   "outputs": [],
   "source": [
    "x_plus = X + 10"
   ]
  },
  {
   "cell_type": "code",
   "execution_count": null,
   "id": "19e886e8-9343-4a30-839a-2da1c1d86b06",
   "metadata": {},
   "outputs": [],
   "source": []
  }
 ],
 "metadata": {
  "kernelspec": {
   "display_name": "Python 3 (ipykernel)",
   "language": "python",
   "name": "python3"
  },
  "language_info": {
   "codemirror_mode": {
    "name": "ipython",
    "version": 3
   },
   "file_extension": ".py",
   "mimetype": "text/x-python",
   "name": "python",
   "nbconvert_exporter": "python",
   "pygments_lexer": "ipython3",
   "version": "3.8.12"
  }
 },
 "nbformat": 4,
 "nbformat_minor": 5
}
